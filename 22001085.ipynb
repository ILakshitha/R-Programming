{
 "cells": [
  {
   "cell_type": "code",
   "execution_count": 3,
   "id": "5651c168-c8ba-4047-817e-4ed8cea341b4",
   "metadata": {},
   "outputs": [],
   "source": [
    "set.seed(12345)"
   ]
  },
  {
   "cell_type": "code",
   "execution_count": 4,
   "id": "1df2fea7-9258-44e5-8dd1-d757e83653af",
   "metadata": {},
   "outputs": [],
   "source": [
    "StudentData <- data.frame(\"student Id\" = 1001:1020)"
   ]
  },
  {
   "cell_type": "code",
   "execution_count": 5,
   "id": "72406f18-a994-46a5-8152-40cf67e3c2bd",
   "metadata": {},
   "outputs": [],
   "source": [
    "StudentData$gender <- sample(c(\"Male\", \"Female\"), nrow(StudentData), replace = TRUE, prob = c(3/5, 2/5))"
   ]
  },
  {
   "cell_type": "code",
   "execution_count": 6,
   "id": "fbacad1f-24e8-4e4e-aee2-30e202a8a755",
   "metadata": {},
   "outputs": [],
   "source": [
    "StudentData$age <- sample(19:21, nrow(StudentData), replace = TRUE)"
   ]
  },
  {
   "cell_type": "code",
   "execution_count": 7,
   "id": "b231f067-5851-4f35-8113-2ad8e9294b78",
   "metadata": {},
   "outputs": [],
   "source": [
    "StudentData$degree <- sample(c(\"CS\", \"IS\", \"SE\"), nrow(StudentData), replace = TRUE)"
   ]
  },
  {
   "cell_type": "code",
   "execution_count": 8,
   "id": "36adcea0-9022-4c89-99c7-346cea486284",
   "metadata": {},
   "outputs": [],
   "source": [
    "StudentData$mahapola_scholarship <- 6500"
   ]
  },
  {
   "cell_type": "code",
   "execution_count": 9,
   "id": "641cb7f0-910f-4716-941e-9c00bdced6be",
   "metadata": {},
   "outputs": [],
   "source": [
    "stipend <- seq(2000, 5000, by = 250)"
   ]
  },
  {
   "cell_type": "code",
   "execution_count": 10,
   "id": "631a9228-e63a-4c22-ba85-197065bca757",
   "metadata": {},
   "outputs": [],
   "source": [
    "StudentData$special_scholarship_stipend <- sample(stipend, nrow(StudentData), replace = TRUE)"
   ]
  },
  {
   "cell_type": "code",
   "execution_count": 11,
   "id": "443197b5-1dcc-4289-b6d4-932c01ca220e",
   "metadata": {},
   "outputs": [
    {
     "name": "stdout",
     "output_type": "stream",
     "text": [
      "   student.Id gender age degree mahapola_scholarship\n",
      "1        1001 Female  21     SE                 6500\n",
      "2        1002 Female  20     SE                 6500\n",
      "3        1003 Female  20     CS                 6500\n",
      "4        1004 Female  19     SE                 6500\n",
      "5        1005   Male  20     CS                 6500\n",
      "6        1006   Male  21     CS                 6500\n",
      "7        1007   Male  19     IS                 6500\n",
      "8        1008   Male  20     IS                 6500\n",
      "9        1009 Female  19     SE                 6500\n",
      "10       1010 Female  20     SE                 6500\n",
      "11       1011   Male  21     CS                 6500\n",
      "12       1012   Male  20     SE                 6500\n",
      "13       1013 Female  20     SE                 6500\n",
      "14       1014   Male  21     CS                 6500\n",
      "15       1015   Male  19     IS                 6500\n",
      "16       1016   Male  19     SE                 6500\n",
      "17       1017   Male  21     CS                 6500\n",
      "18       1018   Male  20     SE                 6500\n",
      "19       1019   Male  19     IS                 6500\n",
      "20       1020 Female  19     SE                 6500\n",
      "   special_scholarship_stipend\n",
      "1                         5000\n",
      "2                         3250\n",
      "3                         2500\n",
      "4                         3500\n",
      "5                         4250\n",
      "6                         3500\n",
      "7                         4250\n",
      "8                         3500\n",
      "9                         3500\n",
      "10                        3000\n",
      "11                        3500\n",
      "12                        4750\n",
      "13                        4750\n",
      "14                        4250\n",
      "15                        5000\n",
      "16                        4750\n",
      "17                        3750\n",
      "18                        2500\n",
      "19                        3000\n",
      "20                        4500\n"
     ]
    }
   ],
   "source": [
    "print(StudentData)"
   ]
  },
  {
   "cell_type": "code",
   "execution_count": 12,
   "id": "123f1c7a-2c41-49aa-ba03-5d0329de7a07",
   "metadata": {},
   "outputs": [],
   "source": [
    "StudentData$net_scol <- StudentData$mahapola_scholarship - StudentData$special_scholarship_stipend"
   ]
  },
  {
   "cell_type": "code",
   "execution_count": 13,
   "id": "7ea95d81-5691-42a5-b8a3-6ff418fb28ab",
   "metadata": {},
   "outputs": [],
   "source": [
    "CS_net_schol <- StudentData[StudentData$degree == \"CS\", ]"
   ]
  },
  {
   "cell_type": "code",
   "execution_count": 14,
   "id": "34323afb-f8c6-427d-afda-4545413fbf78",
   "metadata": {},
   "outputs": [
    {
     "name": "stdout",
     "output_type": "stream",
     "text": [
      "   student.Id gender age degree mahapola_scholarship\n",
      "3        1003 Female  20     CS                 6500\n",
      "5        1005   Male  20     CS                 6500\n",
      "6        1006   Male  21     CS                 6500\n",
      "11       1011   Male  21     CS                 6500\n",
      "14       1014   Male  21     CS                 6500\n",
      "17       1017   Male  21     CS                 6500\n",
      "   special_scholarship_stipend net_scol\n",
      "3                         2500     4000\n",
      "5                         4250     2250\n",
      "6                         3500     3000\n",
      "11                        3500     3000\n",
      "14                        4250     2250\n",
      "17                        3750     2750\n"
     ]
    }
   ],
   "source": [
    "print(CS_net_schol) "
   ]
  },
  {
   "cell_type": "code",
   "execution_count": 15,
   "id": "18b1ce63-d732-4252-9a05-66ca58fa29bf",
   "metadata": {},
   "outputs": [],
   "source": [
    "High_Schol <- StudentData[StudentData$net_schol >9000 , ]"
   ]
  },
  {
   "cell_type": "code",
   "execution_count": 16,
   "id": "28a44a24-763f-4e2c-b12c-152f06664a55",
   "metadata": {},
   "outputs": [
    {
     "name": "stdout",
     "output_type": "stream",
     "text": [
      "[1] student.Id                  gender                     \n",
      "[3] age                         degree                     \n",
      "[5] mahapola_scholarship        special_scholarship_stipend\n",
      "[7] net_scol                   \n",
      "<0 rows> (or 0-length row.names)\n"
     ]
    }
   ],
   "source": [
    "print(High_Schol)"
   ]
  },
  {
   "cell_type": "code",
   "execution_count": 17,
   "id": "771c49fe-bb92-40d4-a6eb-966bd2bcb6cb",
   "metadata": {},
   "outputs": [
    {
     "data": {
      "text/plain": [
       "   student.Id      gender               age           degree         \n",
       " Min.   :1001   Length:20          Min.   :19.00   Length:20         \n",
       " 1st Qu.:1006   Class :character   1st Qu.:19.00   Class :character  \n",
       " Median :1010   Mode  :character   Median :20.00   Mode  :character  \n",
       " Mean   :1010                      Mean   :19.90                     \n",
       " 3rd Qu.:1015                      3rd Qu.:20.25                     \n",
       " Max.   :1020                      Max.   :21.00                     \n",
       " mahapola_scholarship special_scholarship_stipend    net_scol   \n",
       " Min.   :6500         Min.   :2500                Min.   :1500  \n",
       " 1st Qu.:6500         1st Qu.:3438                1st Qu.:1938  \n",
       " Median :6500         Median :3625                Median :2875  \n",
       " Mean   :6500         Mean   :3850                Mean   :2650  \n",
       " 3rd Qu.:6500         3rd Qu.:4562                3rd Qu.:3062  \n",
       " Max.   :6500         Max.   :5000                Max.   :4000  "
      ]
     },
     "metadata": {},
     "output_type": "display_data"
    }
   ],
   "source": [
    "summary(StudentData)"
   ]
  },
  {
   "cell_type": "code",
   "execution_count": null,
   "id": "e2ec5a3c-7c4b-4045-9341-1d031ab9f826",
   "metadata": {},
   "outputs": [],
   "source": []
  }
 ],
 "metadata": {
  "kernelspec": {
   "display_name": "R",
   "language": "R",
   "name": "ir"
  },
  "language_info": {
   "codemirror_mode": "r",
   "file_extension": ".r",
   "mimetype": "text/x-r-source",
   "name": "R",
   "pygments_lexer": "r",
   "version": "4.4.2"
  }
 },
 "nbformat": 4,
 "nbformat_minor": 5
}
